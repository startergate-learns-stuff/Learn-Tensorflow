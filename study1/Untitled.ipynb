{
 "cells": [
  {
   "cell_type": "code",
   "execution_count": 1,
   "metadata": {},
   "outputs": [],
   "source": [
    "import tensorflow as tf"
   ]
  },
  {
   "cell_type": "code",
   "execution_count": 2,
   "metadata": {},
   "outputs": [],
   "source": [
    "hello = tf.constant('Hello, TensorFlow!')"
   ]
  },
  {
   "cell_type": "code",
   "execution_count": 3,
   "metadata": {},
   "outputs": [
    {
     "name": "stdout",
     "output_type": "stream",
     "text": [
      "Tensor(\"Const:0\", shape=(), dtype=string)\n"
     ]
    }
   ],
   "source": [
    "print(hello)"
   ]
  },
  {
   "cell_type": "code",
   "execution_count": 4,
   "metadata": {},
   "outputs": [],
   "source": [
    "a = tf.constant(10)"
   ]
  },
  {
   "cell_type": "code",
   "execution_count": 5,
   "metadata": {},
   "outputs": [],
   "source": [
    "b = tf.constant(32)"
   ]
  },
  {
   "cell_type": "code",
   "execution_count": 6,
   "metadata": {},
   "outputs": [
    {
     "name": "stdout",
     "output_type": "stream",
     "text": [
      "Tensor(\"Add:0\", shape=(), dtype=int32)\n"
     ]
    }
   ],
   "source": [
    "c = tf.add(a, b);\n",
    "print(c);"
   ]
  },
  {
   "cell_type": "code",
   "execution_count": 7,
   "metadata": {},
   "outputs": [
    {
     "name": "stdout",
     "output_type": "stream",
     "text": [
      "b'Hello, TensorFlow!'\n",
      "[10, 32, 42]\n"
     ]
    }
   ],
   "source": [
    "sess = tf.Session()\n",
    "\n",
    "print(sess.run(hello))\n",
    "print(sess.run([a, b, c]));\n",
    "\n",
    "sess.close();"
   ]
  },
  {
   "cell_type": "code",
   "execution_count": 8,
   "metadata": {},
   "outputs": [
    {
     "name": "stdout",
     "output_type": "stream",
     "text": [
      "Tensor(\"Placeholder:0\", shape=(?, 3), dtype=float32)\n"
     ]
    }
   ],
   "source": [
    "X = tf.placeholder(tf.float32, [None, 3])\n",
    "print(X)"
   ]
  },
  {
   "cell_type": "code",
   "execution_count": 9,
   "metadata": {},
   "outputs": [],
   "source": [
    "x_data = [[1,2,3],[4,5,6]]"
   ]
  },
  {
   "cell_type": "code",
   "execution_count": 10,
   "metadata": {},
   "outputs": [],
   "source": [
    "W = tf.Variable(tf.random_normal([3,2]))\n",
    "b = tf.Variable(tf.random_normal([2,1]))"
   ]
  },
  {
   "cell_type": "code",
   "execution_count": 11,
   "metadata": {},
   "outputs": [],
   "source": [
    "expr = tf.matmul(X, W) + b"
   ]
  },
  {
   "cell_type": "code",
   "execution_count": 14,
   "metadata": {},
   "outputs": [
    {
     "name": "stdout",
     "output_type": "stream",
     "text": [
      "=== x_data ===\n",
      "[[1, 2, 3], [4, 5, 6]]\n",
      "=== W ===\n",
      "[[-0.20333172  0.5750243 ]\n",
      " [-0.4901342  -0.9637009 ]\n",
      " [-0.14017463 -0.08256085]]\n",
      "=== b ===\n",
      "[[ 0.14031094]\n",
      " [-0.14444947]]\n",
      "=== expr ===\n",
      "[[-1.4638131 -1.459749 ]\n",
      " [-4.2494946 -3.1582217]]\n"
     ]
    }
   ],
   "source": [
    "sess = tf.Session()\n",
    "sess.run(tf.global_variables_initializer())\n",
    "\n",
    "print(\"=== x_data ===\")\n",
    "print(x_data);\n",
    "print(\"=== W ===\")\n",
    "print(sess.run(W))\n",
    "print(\"=== b ===\")\n",
    "print(sess.run(b))\n",
    "print(\"=== expr ===\")\n",
    "print(sess.run(expr, feed_dict={X: x_data}))\n",
    "\n",
    "sess.close()"
   ]
  },
  {
   "cell_type": "code",
   "execution_count": 15,
   "metadata": {},
   "outputs": [],
   "source": [
    "x_data = [1,2,3]\n",
    "y_data = [4,5,6]"
   ]
  },
  {
   "cell_type": "code",
   "execution_count": 16,
   "metadata": {},
   "outputs": [],
   "source": [
    "W = tf.Variable(tf.random_uniform([1], -1.0, 1.0))\n",
    "b = tf.Variable(tf.random_uniform([1], -1.0, 1.0))"
   ]
  },
  {
   "cell_type": "code",
   "execution_count": 17,
   "metadata": {},
   "outputs": [],
   "source": [
    "X = tf.placeholder(tf.float32, name=\"X\")\n",
    "Y = tf.placeholder(tf.float32, name=\"Y\")"
   ]
  },
  {
   "cell_type": "code",
   "execution_count": 18,
   "metadata": {},
   "outputs": [],
   "source": [
    "hypothesis = W * X + b"
   ]
  },
  {
   "cell_type": "code",
   "execution_count": 19,
   "metadata": {},
   "outputs": [],
   "source": [
    "cost = tf.reduce_mean(tf.square(hypothesis - Y))"
   ]
  },
  {
   "cell_type": "code",
   "execution_count": 29,
   "metadata": {},
   "outputs": [],
   "source": [
    "optimizer = tf.train.GradientDescentOptimizer(learning_rate=0.1)\n",
    "train_op = optimizer.minimize(cost)"
   ]
  },
  {
   "cell_type": "code",
   "execution_count": 30,
   "metadata": {},
   "outputs": [
    {
     "name": "stdout",
     "output_type": "stream",
     "text": [
      "0 42.47728 [1.7929623] [1.9467167]\n",
      "1 0.70289993 [1.4741774] [1.8401884]\n",
      "2 0.19461007 [1.4955364] [1.8824798]\n",
      "3 0.17969316 [1.4800439] [1.9077692]\n",
      "4 0.17108987 [1.4688952] [1.9341978]\n",
      "5 0.16296227 [1.4575804] [1.9598001]\n",
      "6 0.15522134 [1.4465853] [1.984808]\n",
      "7 0.14784826 [1.4358492] [2.0092123]\n",
      "8 0.14082532 [1.4253716] [2.03303]\n",
      "9 0.134136 [1.4151461] [2.0562754]\n",
      "10 0.1277645 [1.4051663] [2.0789618]\n",
      "11 0.12169558 [1.3954263] [2.101103]\n",
      "12 0.11591494 [1.3859205] [2.122712]\n",
      "13 0.11040887 [1.3766432] [2.1438012]\n",
      "14 0.10516436 [1.3675891] [2.1643836]\n",
      "15 0.10016892 [1.3587525] [2.1844714]\n",
      "16 0.09541086 [1.3501283] [2.204076]\n",
      "17 0.090878814 [1.3417114] [2.2232094]\n",
      "18 0.08656194 [1.333497] [2.241883]\n",
      "19 0.08245025 [1.3254799] [2.2601075]\n",
      "20 0.07853376 [1.3176557] [2.277894]\n",
      "21 0.07480345 [1.3100195] [2.295253]\n",
      "22 0.07125014 [1.3025669] [2.3121946]\n",
      "23 0.0678658 [1.2952933] [2.328729]\n",
      "24 0.064642124 [1.2881947] [2.3448658]\n",
      "25 0.061571527 [1.2812667] [2.3606148]\n",
      "26 0.058646843 [1.2745053] [2.3759851]\n",
      "27 0.05586113 [1.2679063] [2.390986]\n",
      "28 0.05320767 [1.261466] [2.4056263]\n",
      "29 0.05068023 [1.2551806] [2.4199147]\n",
      "30 0.048272844 [1.2490462] [2.4338596]\n",
      "31 0.045979854 [1.2430593] [2.4474692]\n",
      "32 0.04379582 [1.2372162] [2.4607518]\n",
      "33 0.041715432 [1.2315136] [2.4737148]\n",
      "34 0.039733984 [1.2259483] [2.4863665]\n",
      "35 0.037846517 [1.2205167] [2.498714]\n",
      "36 0.03604879 [1.2152156] [2.5107646]\n",
      "37 0.034336407 [1.2100419] [2.5225255]\n",
      "38 0.032705408 [1.2049927] [2.5340037]\n",
      "39 0.031151863 [1.2000648] [2.5452058]\n",
      "40 0.029672131 [1.1952553] [2.5561388]\n",
      "41 0.028262727 [1.1905614] [2.566809]\n",
      "42 0.026920216 [1.1859804] [2.5772226]\n",
      "43 0.02564148 [1.1815096] [2.587386]\n",
      "44 0.02442349 [1.1771462] [2.5973048]\n",
      "45 0.023263326 [1.1728879] [2.6069853]\n",
      "46 0.022158341 [1.1687317] [2.6164331]\n",
      "47 0.021105787 [1.1646755] [2.6256537]\n",
      "48 0.02010327 [1.1607168] [2.6346529]\n",
      "49 0.019148333 [1.1568533] [2.6434355]\n",
      "50 0.018238805 [1.1530827] [2.652007]\n",
      "51 0.017372385 [1.1494026] [2.6603725]\n",
      "52 0.016547231 [1.1458111] [2.668537]\n",
      "53 0.015761226 [1.1423059] [2.676505]\n",
      "54 0.015012541 [1.138885] [2.6842818]\n",
      "55 0.014299426 [1.1355463] [2.6918714]\n",
      "56 0.013620208 [1.1322877] [2.6992786]\n",
      "57 0.012973231 [1.1291078] [2.7065077]\n",
      "58 0.012356971 [1.1260041] [2.713563]\n",
      "59 0.011770007 [1.1229751] [2.7204487]\n",
      "60 0.011210944 [1.1200188] [2.727169]\n",
      "61 0.010678389 [1.1171336] [2.7337277]\n",
      "62 0.010171199 [1.1143178] [2.7401288]\n",
      "63 0.009688056 [1.1115696] [2.7463758]\n",
      "64 0.009227858 [1.1088877] [2.7524729]\n",
      "65 0.008789519 [1.1062701] [2.7584233]\n",
      "66 0.008371993 [1.1037154] [2.7642307]\n",
      "67 0.007974326 [1.101222] [2.7698984]\n",
      "68 0.0075955386 [1.0987887] [2.77543]\n",
      "69 0.0072347573 [1.096414] [2.7808285]\n",
      "70 0.0068910667 [1.0940962] [2.7860973]\n",
      "71 0.0065637566 [1.0918341] [2.7912393]\n",
      "72 0.006251969 [1.0896266] [2.7962577]\n",
      "73 0.005955002 [1.0874721] [2.8011556]\n",
      "74 0.0056721433 [1.0853692] [2.8059356]\n",
      "75 0.005402688 [1.083317] [2.8106008]\n",
      "76 0.0051460625 [1.0813142] [2.8151538]\n",
      "77 0.0049016154 [1.0793594] [2.8195975]\n",
      "78 0.004668788 [1.0774517] [2.8239343]\n",
      "79 0.0044470252 [1.0755897] [2.8281667]\n",
      "80 0.004235772 [1.0737727] [2.8322976]\n",
      "81 0.0040345765 [1.0719991] [2.836329]\n",
      "82 0.003842933 [1.0702684] [2.8402636]\n",
      "83 0.0036603867 [1.0685791] [2.8441036]\n",
      "84 0.0034865271 [1.0669305] [2.8478513]\n",
      "85 0.0033209103 [1.0653214] [2.8515089]\n",
      "86 0.003163144 [1.0637512] [2.8550785]\n",
      "87 0.0030129084 [1.0622187] [2.8585622]\n",
      "88 0.0028697941 [1.060723] [2.8619623]\n",
      "89 0.002733484 [1.0592632] [2.8652806]\n",
      "90 0.0026036308 [1.0578387] [2.8685193]\n",
      "91 0.0024799472 [1.0564482] [2.87168]\n",
      "92 0.0023621556 [1.0550913] [2.8747647]\n",
      "93 0.0022499475 [1.053767] [2.8777752]\n",
      "94 0.0021430736 [1.0524744] [2.8807135]\n",
      "95 0.0020412684 [1.0512129] [2.883581]\n",
      "96 0.001944323 [1.0499817] [2.8863795]\n",
      "97 0.0018519559 [1.0487803] [2.8891108]\n",
      "98 0.0017640047 [1.0476077] [2.8917766]\n",
      "99 0.0016801985 [1.0464633] [2.8943782]\n",
      "X: 5, Y: [8.126694]\n",
      "X: 2.5, Y: [5.510536]\n"
     ]
    }
   ],
   "source": [
    "with tf.Session() as sess:\n",
    "    sess.run(tf.global_variables_initializer())\n",
    "    for step in range(100):\n",
    "        _, cost_val = sess.run([train_op, cost], feed_dict={X: x_data, Y: y_data})\n",
    "        print(step, cost_val, sess.run(W), sess.run(b))\n",
    "    print(\"X: 5, Y:\", sess.run(hypothesis, feed_dict={X:5}))\n",
    "    print(\"X: 2.5, Y:\", sess.run(hypothesis, feed_dict={X:2.5}))"
   ]
  },
  {
   "cell_type": "code",
   "execution_count": null,
   "metadata": {},
   "outputs": [],
   "source": []
  }
 ],
 "metadata": {
  "kernelspec": {
   "display_name": "Python 3",
   "language": "python",
   "name": "python3"
  },
  "language_info": {
   "codemirror_mode": {
    "name": "ipython",
    "version": 3
   },
   "file_extension": ".py",
   "mimetype": "text/x-python",
   "name": "python",
   "nbconvert_exporter": "python",
   "pygments_lexer": "ipython3",
   "version": "3.6.7"
  }
 },
 "nbformat": 4,
 "nbformat_minor": 2
}
