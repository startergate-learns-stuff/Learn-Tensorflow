{
 "cells": [
  {
   "cell_type": "code",
   "execution_count": 1,
   "metadata": {},
   "outputs": [],
   "source": [
    "import tensorflow as tf"
   ]
  },
  {
   "cell_type": "code",
   "execution_count": 2,
   "metadata": {},
   "outputs": [],
   "source": [
    "hello = tf.constant('Hello, TensorFlow!')"
   ]
  },
  {
   "cell_type": "code",
   "execution_count": 3,
   "metadata": {},
   "outputs": [
    {
     "name": "stdout",
     "output_type": "stream",
     "text": [
      "Tensor(\"Const:0\", shape=(), dtype=string)\n"
     ]
    }
   ],
   "source": [
    "print(hello)"
   ]
  },
  {
   "cell_type": "code",
   "execution_count": 4,
   "metadata": {},
   "outputs": [],
   "source": [
    "a = tf.constant(10)"
   ]
  },
  {
   "cell_type": "code",
   "execution_count": 5,
   "metadata": {},
   "outputs": [],
   "source": [
    "b = tf.constant(32)"
   ]
  },
  {
   "cell_type": "code",
   "execution_count": 6,
   "metadata": {},
   "outputs": [
    {
     "name": "stdout",
     "output_type": "stream",
     "text": [
      "Tensor(\"Add:0\", shape=(), dtype=int32)\n"
     ]
    }
   ],
   "source": [
    "c = tf.add(a, b);\n",
    "print(c);"
   ]
  },
  {
   "cell_type": "code",
   "execution_count": 7,
   "metadata": {},
   "outputs": [
    {
     "name": "stdout",
     "output_type": "stream",
     "text": [
      "b'Hello, TensorFlow!'\n",
      "[10, 32, 42]\n"
     ]
    }
   ],
   "source": [
    "sess = tf.Session()\n",
    "\n",
    "print(sess.run(hello))\n",
    "print(sess.run([a, b, c]));\n",
    "\n",
    "sess.close();"
   ]
  },
  {
   "cell_type": "code",
   "execution_count": 8,
   "metadata": {},
   "outputs": [
    {
     "name": "stdout",
     "output_type": "stream",
     "text": [
      "Tensor(\"Placeholder:0\", shape=(?, 3), dtype=float32)\n"
     ]
    }
   ],
   "source": [
    "X = tf.placeholder(tf.float32, [None, 3])\n",
    "print(X)"
   ]
  },
  {
   "cell_type": "code",
   "execution_count": 9,
   "metadata": {},
   "outputs": [],
   "source": [
    "x_data = [[1,2,3],[4,5,6]]"
   ]
  },
  {
   "cell_type": "code",
   "execution_count": 10,
   "metadata": {},
   "outputs": [],
   "source": [
    "W = tf.Variable(tf.random_normal([3,2]))\n",
    "b = tf.Variable(tf.random_normal([2,1]))"
   ]
  },
  {
   "cell_type": "code",
   "execution_count": 11,
   "metadata": {},
   "outputs": [],
   "source": [
    "expr = tf.matmul(X, W) + b"
   ]
  },
  {
   "cell_type": "code",
   "execution_count": 14,
   "metadata": {},
   "outputs": [
    {
     "name": "stdout",
     "output_type": "stream",
     "text": [
      "=== x_data ===\n",
      "[[1, 2, 3], [4, 5, 6]]\n",
      "=== W ===\n",
      "[[-0.20333172  0.5750243 ]\n",
      " [-0.4901342  -0.9637009 ]\n",
      " [-0.14017463 -0.08256085]]\n",
      "=== b ===\n",
      "[[ 0.14031094]\n",
      " [-0.14444947]]\n",
      "=== expr ===\n",
      "[[-1.4638131 -1.459749 ]\n",
      " [-4.2494946 -3.1582217]]\n"
     ]
    }
   ],
   "source": [
    "sess = tf.Session()\n",
    "sess.run(tf.global_variables_initializer())\n",
    "\n",
    "print(\"=== x_data ===\")\n",
    "print(x_data);\n",
    "print(\"=== W ===\")\n",
    "print(sess.run(W))\n",
    "print(\"=== b ===\")\n",
    "print(sess.run(b))\n",
    "print(\"=== expr ===\")\n",
    "print(sess.run(expr, feed_dict={X: x_data}))\n",
    "\n",
    "sess.close()"
   ]
  },
  {
   "cell_type": "code",
   "execution_count": 15,
   "metadata": {},
   "outputs": [],
   "source": [
    "x_data = [1,2,3]\n",
    "y_data = [4,5,6]"
   ]
  },
  {
   "cell_type": "code",
   "execution_count": 16,
   "metadata": {},
   "outputs": [],
   "source": [
    "W = tf.Variable(tf.random_uniform([1], -1.0, 1.0))\n",
    "b = tf.Variable(tf.random_uniform([1], -1.0, 1.0))"
   ]
  },
  {
   "cell_type": "code",
   "execution_count": 17,
   "metadata": {},
   "outputs": [],
   "source": [
    "X = tf.placeholder(tf.float32, name=\"X\")\n",
    "Y = tf.placeholder(tf.float32, name=\"Y\")"
   ]
  },
  {
   "cell_type": "code",
   "execution_count": 18,
   "metadata": {},
   "outputs": [],
   "source": [
    "hypothesis = W * X + b"
   ]
  },
  {
   "cell_type": "code",
   "execution_count": 19,
   "metadata": {},
   "outputs": [],
   "source": [
    "cost = tf.reduce_mean(tf.square(hypothesis - Y))"
   ]
  },
  {
   "cell_type": "code",
   "execution_count": 24,
   "metadata": {},
   "outputs": [],
   "source": [
    "optimizer = tf.train.GradientDescentOptimizer(learning_rate=0.1)\n",
    "train_op = optimizer.minimize(cost)"
   ]
  },
  {
   "cell_type": "code",
   "execution_count": 27,
   "metadata": {},
   "outputs": [
    {
     "name": "stdout",
     "output_type": "stream",
     "text": [
      "0 39.502228 [2.0711856] [1.2846583]\n",
      "1 0.9473133 [1.757549] [1.1992524]\n",
      "2 0.4641825 [1.7708024] [1.2563822]\n",
      "3 0.43690026 [1.7488339] [1.2967849]\n",
      "4 0.41608462 [1.7312083] [1.3378943]\n",
      "5 0.3963194 [1.7135894] [1.377832]\n",
      "6 0.37749377 [1.6964399] [1.41683]\n",
      "7 0.35956284 [1.6796973] [1.454888]\n",
      "8 0.3424832 [1.663358] [1.4920315]\n",
      "9 0.3262152 [1.6474112] [1.5282819]\n",
      "10 0.31071955 [1.6318481] [1.5636611]\n",
      "11 0.2959601 [1.6166588] [1.5981897]\n",
      "12 0.28190193 [1.6018347] [1.6318883]\n",
      "13 0.2685113 [1.587367] [1.6647768]\n",
      "14 0.25575677 [1.5732471] [1.6968746]\n",
      "15 0.24360825 [1.5594666] [1.7282009]\n",
      "16 0.23203664 [1.5460174] [1.758774]\n",
      "17 0.22101451 [1.5328916] [1.7886122]\n",
      "18 0.21051633 [1.5200813] [1.8177332]\n",
      "19 0.20051666 [1.5075788] [1.846154]\n",
      "20 0.19099201 [1.495377] [1.8738916]\n",
      "21 0.18191981 [1.4834685] [1.9009625]\n",
      "22 0.17327845 [1.4718463] [1.9273826]\n",
      "23 0.16504745 [1.4605035] [1.9531676]\n",
      "24 0.15720762 [1.4494332] [1.9783326]\n",
      "25 0.14974014 [1.4386292] [2.0028927]\n",
      "26 0.14262743 [1.428085] [2.0268626]\n",
      "27 0.13585259 [1.4177939] [2.050256]\n",
      "28 0.1293994 [1.4077505] [2.0730872]\n",
      "29 0.12325285 [1.3979485] [2.0953696]\n",
      "30 0.117398284 [1.3883821] [2.1171162]\n",
      "31 0.11182183 [1.3790456] [2.13834]\n",
      "32 0.10651028 [1.3699337] [2.1590538]\n",
      "33 0.10145096 [1.3610407] [2.1792696]\n",
      "34 0.09663192 [1.3523614] [2.1989994]\n",
      "35 0.09204175 [1.343891] [2.218255]\n",
      "36 0.08766965 [1.335624] [2.2370477]\n",
      "37 0.08350537 [1.3275558] [2.2553885]\n",
      "38 0.07953879 [1.3196815] [2.2732885]\n",
      "39 0.075760655 [1.3119967] [2.2907581]\n",
      "40 0.072161965 [1.3044965] [2.307808]\n",
      "41 0.06873413 [1.2971766] [2.3244476]\n",
      "42 0.065469295 [1.2900326] [2.3406875]\n",
      "43 0.062359422 [1.2830606] [2.3565369]\n",
      "44 0.05939731 [1.276256] [2.3720052]\n",
      "45 0.05657594 [1.2696149] [2.387102]\n",
      "46 0.0538885 [1.2631336] [2.4018354]\n",
      "47 0.05132881 [1.256808] [2.416215]\n",
      "48 0.048890572 [1.2506346] [2.4302487]\n",
      "49 0.04656823 [1.2446095] [2.4439452]\n",
      "50 0.044356193 [1.2387292] [2.4573123]\n",
      "51 0.04224929 [1.2329904] [2.4703581]\n",
      "52 0.040242434 [1.2273893] [2.4830904]\n",
      "53 0.038330857 [1.2219231] [2.4955165]\n",
      "54 0.03651013 [1.2165883] [2.507644]\n",
      "55 0.034775857 [1.2113816] [2.5194798]\n",
      "56 0.033124037 [1.2063003] [2.5310311]\n",
      "57 0.03155059 [1.2013409] [2.5423048]\n",
      "58 0.030051926 [1.1965009] [2.5533075]\n",
      "59 0.028624462 [1.1917771] [2.5640457]\n",
      "60 0.027264731 [1.1871669] [2.5745258]\n",
      "61 0.025969617 [1.1826675] [2.584754]\n",
      "62 0.024736032 [1.1782763] [2.594736]\n",
      "63 0.023561105 [1.1739906] [2.6044784]\n",
      "64 0.022441894 [1.169808] [2.6139865]\n",
      "65 0.021375919 [1.165726] [2.623266]\n",
      "66 0.020360537 [1.1617421] [2.6323223]\n",
      "67 0.019393368 [1.1578538] [2.641161]\n",
      "68 0.018472185 [1.1540593] [2.6497872]\n",
      "69 0.017594792 [1.1503557] [2.658206]\n",
      "70 0.016758975 [1.1467413] [2.6664226]\n",
      "71 0.015962953 [1.1432137] [2.6744416]\n",
      "72 0.0152047025 [1.139771] [2.6822677]\n",
      "73 0.014482456 [1.136411] [2.6899056]\n",
      "74 0.013794519 [1.1331319] [2.69736]\n",
      "75 0.013139266 [1.1299314] [2.7046354]\n",
      "76 0.01251517 [1.1268078] [2.7117357]\n",
      "77 0.011920702 [1.1237596] [2.7186654]\n",
      "78 0.011354435 [1.1207845] [2.7254286]\n",
      "79 0.0108150765 [1.117881] [2.732029]\n",
      "80 0.010301397 [1.1150472] [2.7384708]\n",
      "81 0.009812058 [1.1122816] [2.7447577]\n",
      "82 0.009345968 [1.1095824] [2.7508936]\n",
      "83 0.008902036 [1.106948] [2.756882]\n",
      "84 0.008479186 [1.104377] [2.7627263]\n",
      "85 0.0080764005 [1.101868] [2.7684302]\n",
      "86 0.0076927673 [1.0994191] [2.773997]\n",
      "87 0.0073273457 [1.0970291] [2.77943]\n",
      "88 0.0069792992 [1.0946966] [2.7847323]\n",
      "89 0.006647797 [1.0924201] [2.7899072]\n",
      "90 0.006331995 [1.0901985] [2.7949576]\n",
      "91 0.006031241 [1.0880302] [2.7998867]\n",
      "92 0.0057447352 [1.085914] [2.8046973]\n",
      "93 0.005471867 [1.0838487] [2.8093922]\n",
      "94 0.0052119526 [1.081833] [2.8139744]\n",
      "95 0.004964396 [1.0798658] [2.8184464]\n",
      "96 0.004728558 [1.077946] [2.822811]\n",
      "97 0.0045039556 [1.0760721] [2.8270702]\n",
      "98 0.0042900005 [1.0742433] [2.8312273]\n",
      "99 0.004086229 [1.0724586] [2.8352845]\n"
     ]
    }
   ],
   "source": [
    "with tf.Session() as sess:\n",
    "    sess.run(tf.global_variables_initializer())\n",
    "    for step in range(100):\n",
    "        _, cost_val = sess.run([train_op, cost], feed_dict={X: x_data, Y: y_data})\n",
    "        print(step, cost_val, sess.run(W), sess.run(b))"
   ]
  },
  {
   "cell_type": "code",
   "execution_count": null,
   "metadata": {},
   "outputs": [],
   "source": []
  }
 ],
 "metadata": {
  "kernelspec": {
   "display_name": "Python 3",
   "language": "python",
   "name": "python3"
  },
  "language_info": {
   "codemirror_mode": {
    "name": "ipython",
    "version": 3
   },
   "file_extension": ".py",
   "mimetype": "text/x-python",
   "name": "python",
   "nbconvert_exporter": "python",
   "pygments_lexer": "ipython3",
   "version": "3.6.7"
  }
 },
 "nbformat": 4,
 "nbformat_minor": 2
}
